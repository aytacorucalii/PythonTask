{
  "nbformat": 4,
  "nbformat_minor": 0,
  "metadata": {
    "colab": {
      "provenance": [],
      "authorship_tag": "ABX9TyPWuWs03mjhDvTNfS7/tyGB",
      "include_colab_link": true
    },
    "kernelspec": {
      "name": "python3",
      "display_name": "Python 3"
    },
    "language_info": {
      "name": "python"
    }
  },
  "cells": [
    {
      "cell_type": "markdown",
      "metadata": {
        "id": "view-in-github",
        "colab_type": "text"
      },
      "source": [
        "<a href=\"https://colab.research.google.com/github/aytacorucalii/PythonTask/blob/main/Untitled6.ipynb\" target=\"_parent\"><img src=\"https://colab.research.google.com/assets/colab-badge.svg\" alt=\"Open In Colab\"/></a>"
      ]
    },
    {
      "cell_type": "markdown",
      "source": [
        "Sprint_3a_task"
      ],
      "metadata": {
        "id": "wMB-0PW5kSOA"
      }
    },
    {
      "cell_type": "code",
      "execution_count": 1,
      "metadata": {
        "colab": {
          "base_uri": "https://localhost:8080/"
        },
        "id": "hVZ0SFTpkJCP",
        "outputId": "11311c2f-23e6-44be-fe09-203087efbc10"
      },
      "outputs": [
        {
          "output_type": "stream",
          "name": "stdout",
          "text": [
            "müsbət\n"
          ]
        }
      ],
      "source": [
        "# 1\n",
        "x = 5\n",
        "if x > 0:\n",
        "    print(\"müsbət\")\n",
        "elif x < 0:\n",
        "    print(\"mənfi\")\n",
        "else:\n",
        "    print(\"sıfır\")\n"
      ]
    },
    {
      "cell_type": "code",
      "source": [
        "# 2\n",
        "n = 7\n",
        "if n % 2 == 0:\n",
        "    print(\"cüt\")\n",
        "else:\n",
        "    print(\"tək\")"
      ],
      "metadata": {
        "colab": {
          "base_uri": "https://localhost:8080/"
        },
        "id": "ZZDbY88jkxBX",
        "outputId": "1d55cbe1-e445-4d9e-b6ad-5525ee02fd11"
      },
      "execution_count": 2,
      "outputs": [
        {
          "output_type": "stream",
          "name": "stdout",
          "text": [
            "tək\n"
          ]
        }
      ]
    },
    {
      "cell_type": "code",
      "source": [
        "# 3\n",
        "a = 10\n",
        "b = 20\n",
        "c = 15\n",
        "print(max(a, b, c))"
      ],
      "metadata": {
        "colab": {
          "base_uri": "https://localhost:8080/"
        },
        "id": "Y6BRsd3dkveq",
        "outputId": "f451e5fc-f2ff-4055-e3a0-4e67665a55bc"
      },
      "execution_count": 3,
      "outputs": [
        {
          "output_type": "stream",
          "name": "stdout",
          "text": [
            "20\n"
          ]
        }
      ]
    },
    {
      "cell_type": "code",
      "source": [
        "# 4\n",
        "day = 4\n",
        "if day == 1:\n",
        "    print(\"Bazar ertəsi\")\n",
        "elif day == 2:\n",
        "    print(\"Çərşənbə axşamı\")\n",
        "elif day == 3:\n",
        "    print(\"Çərşənbə\")\n",
        "elif day == 4:\n",
        "    print(\"Cümə axşamı\")\n",
        "elif day == 5:\n",
        "    print(\"Cümə\")\n",
        "elif day == 6:\n",
        "    print(\"Şənbə\")\n",
        "elif day == 7:\n",
        "    print(\"Bazar\")\n",
        "else:\n",
        "    print(\"Yanlış gün\")"
      ],
      "metadata": {
        "colab": {
          "base_uri": "https://localhost:8080/"
        },
        "id": "vWu6Er6okqeY",
        "outputId": "dfb2d612-7149-4a5e-b626-9a33104fef49"
      },
      "execution_count": 4,
      "outputs": [
        {
          "output_type": "stream",
          "name": "stdout",
          "text": [
            "Cümə axşamı\n"
          ]
        }
      ]
    },
    {
      "cell_type": "code",
      "source": [
        "# 5\n",
        "temp = 18\n",
        "if temp < 0:\n",
        "    print(\"soyuq\")\n",
        "elif temp <= 20:\n",
        "    print(\"normal\")\n",
        "else:\n",
        "    print(\"isti\")"
      ],
      "metadata": {
        "colab": {
          "base_uri": "https://localhost:8080/"
        },
        "id": "O1AMg8M6kogr",
        "outputId": "0ca3cd37-a2d1-442f-9836-ec6734b4651e"
      },
      "execution_count": 5,
      "outputs": [
        {
          "output_type": "stream",
          "name": "stdout",
          "text": [
            "normal\n"
          ]
        }
      ]
    },
    {
      "cell_type": "code",
      "source": [
        "# 6\n",
        "password = \"sifre123\"\n",
        "if len(password) < 8:\n",
        "    print(\"qısa\")\n",
        "elif len(password) <= 12:\n",
        "    print(\"orta\")\n",
        "else:\n",
        "    print(\"uzun\")"
      ],
      "metadata": {
        "colab": {
          "base_uri": "https://localhost:8080/"
        },
        "id": "5lt0ApLUkdcF",
        "outputId": "bf2848b6-2ad9-404b-da85-dd5837a8eabd"
      },
      "execution_count": 6,
      "outputs": [
        {
          "output_type": "stream",
          "name": "stdout",
          "text": [
            "orta\n"
          ]
        }
      ]
    },
    {
      "cell_type": "code",
      "source": [
        "# 7\n",
        "x = 15\n",
        "if x % 3 == 0 and x % 5 == 0:\n",
        "    print(\"3 və 5\")\n",
        "elif x % 3 == 0:\n",
        "    print(\"3\")\n",
        "elif x % 5 == 0:\n",
        "    print(\"5\")\n",
        "else:\n",
        "    print(\"heç biri\")"
      ],
      "metadata": {
        "colab": {
          "base_uri": "https://localhost:8080/"
        },
        "id": "h80kz7gAlHBK",
        "outputId": "e24ae44e-e01d-4bff-8b2f-f5cd1ffd83cc"
      },
      "execution_count": 7,
      "outputs": [
        {
          "output_type": "stream",
          "name": "stdout",
          "text": [
            "3 və 5\n"
          ]
        }
      ]
    },
    {
      "cell_type": "code",
      "source": [
        "# 8\n",
        "for i in range(0, 21, 2):\n",
        "    print(i)"
      ],
      "metadata": {
        "colab": {
          "base_uri": "https://localhost:8080/"
        },
        "id": "nQrJiqynlE3K",
        "outputId": "991e1ac9-f722-4a42-c941-d7061780a433"
      },
      "execution_count": 8,
      "outputs": [
        {
          "output_type": "stream",
          "name": "stdout",
          "text": [
            "0\n",
            "2\n",
            "4\n",
            "6\n",
            "8\n",
            "10\n",
            "12\n",
            "14\n",
            "16\n",
            "18\n",
            "20\n"
          ]
        }
      ]
    },
    {
      "cell_type": "code",
      "source": [
        "# 9\n",
        "text = \"Bağda ərik var idi …\"\n",
        "for ch in text:\n",
        "    print(ch)"
      ],
      "metadata": {
        "colab": {
          "base_uri": "https://localhost:8080/"
        },
        "id": "W6y9zSl5lDmv",
        "outputId": "f0e389a3-6afc-42b6-e6ea-b7ea8ac9d3ac"
      },
      "execution_count": 9,
      "outputs": [
        {
          "output_type": "stream",
          "name": "stdout",
          "text": [
            "B\n",
            "a\n",
            "ğ\n",
            "d\n",
            "a\n",
            " \n",
            "ə\n",
            "r\n",
            "i\n",
            "k\n",
            " \n",
            "v\n",
            "a\n",
            "r\n",
            " \n",
            "i\n",
            "d\n",
            "i\n",
            " \n",
            "…\n"
          ]
        }
      ]
    },
    {
      "cell_type": "code",
      "source": [
        "# 10\n",
        "for i in range(1, 11):\n",
        "    if i == 3:\n",
        "        continue\n",
        "    print(i)"
      ],
      "metadata": {
        "colab": {
          "base_uri": "https://localhost:8080/"
        },
        "id": "zeSP9UQ4lCgs",
        "outputId": "e99243af-ba13-4727-84f7-c0a9eedd82d0"
      },
      "execution_count": 10,
      "outputs": [
        {
          "output_type": "stream",
          "name": "stdout",
          "text": [
            "1\n",
            "2\n",
            "4\n",
            "5\n",
            "6\n",
            "7\n",
            "8\n",
            "9\n",
            "10\n"
          ]
        }
      ]
    },
    {
      "cell_type": "code",
      "source": [
        "# 11\n",
        "num = 1\n",
        "while True:\n",
        "    if num % 5 == 0:\n",
        "        print(num)\n",
        "        break\n",
        "    num += 1"
      ],
      "metadata": {
        "colab": {
          "base_uri": "https://localhost:8080/"
        },
        "id": "C2usfmmslAvs",
        "outputId": "137303c9-f1ed-4c16-abed-c1957531393e"
      },
      "execution_count": 11,
      "outputs": [
        {
          "output_type": "stream",
          "name": "stdout",
          "text": [
            "5\n"
          ]
        }
      ]
    },
    {
      "cell_type": "code",
      "source": [
        "# 12\n",
        "numbers = (1, 3, 5, 7, 9)\n",
        "for index, value in enumerate(numbers):\n",
        "    if value == 5:\n",
        "        print(index)\n",
        "        break"
      ],
      "metadata": {
        "colab": {
          "base_uri": "https://localhost:8080/"
        },
        "id": "Ii5Cog90k-oh",
        "outputId": "047d6687-3c94-4ac9-bf11-6f4993441b95"
      },
      "execution_count": 12,
      "outputs": [
        {
          "output_type": "stream",
          "name": "stdout",
          "text": [
            "2\n"
          ]
        }
      ]
    },
    {
      "cell_type": "markdown",
      "source": [
        "Sprint_3b_task"
      ],
      "metadata": {
        "id": "f8Vrd4WjlNMO"
      }
    },
    {
      "cell_type": "code",
      "source": [
        "# 1\n",
        "def salam():\n",
        "    print(\"Salam, Dünya!\")\n",
        "\n",
        "salam()"
      ],
      "metadata": {
        "colab": {
          "base_uri": "https://localhost:8080/"
        },
        "id": "H2N0ig85lRxZ",
        "outputId": "90be8d7c-c3c0-4d5a-c21a-d3a0063193a3"
      },
      "execution_count": 13,
      "outputs": [
        {
          "output_type": "stream",
          "name": "stdout",
          "text": [
            "Salam, Dünya!\n"
          ]
        }
      ]
    },
    {
      "cell_type": "code",
      "source": [
        "# 2\n",
        "def kub_hesabla(n):\n",
        "    return n ** 3\n",
        "\n",
        "print(kub_hesabla(3))"
      ],
      "metadata": {
        "colab": {
          "base_uri": "https://localhost:8080/"
        },
        "id": "a_heV8pjlgJk",
        "outputId": "08f5ffcb-0275-4605-a54c-73eb9512cd45"
      },
      "execution_count": 14,
      "outputs": [
        {
          "output_type": "stream",
          "name": "stdout",
          "text": [
            "27\n"
          ]
        }
      ]
    },
    {
      "cell_type": "code",
      "source": [
        "# 3\n",
        "def birlesdir(soz1, soz2):\n",
        "    return soz1 + \" \" + soz2\n",
        "\n",
        "print(birlesdir(\"Salam\", \"Dünya\"))"
      ],
      "metadata": {
        "colab": {
          "base_uri": "https://localhost:8080/"
        },
        "id": "utvgeuEtlhWG",
        "outputId": "b72989bd-c81f-4da5-a55c-7ca06a7ca0d6"
      },
      "execution_count": 15,
      "outputs": [
        {
          "output_type": "stream",
          "name": "stdout",
          "text": [
            "Salam Dünya\n"
          ]
        }
      ]
    },
    {
      "cell_type": "code",
      "source": [
        "\n",
        "# 4\n",
        "def cap_et(my_list):\n",
        "    for item in my_list:\n",
        "        print(item)\n",
        "\n",
        "cap_et([\"alma\", \"armud\", \"ərik\"])"
      ],
      "metadata": {
        "colab": {
          "base_uri": "https://localhost:8080/"
        },
        "id": "6fJtF7WhlihB",
        "outputId": "9babc7df-8d35-4fb0-a4fd-e8a7168a1f27"
      },
      "execution_count": 16,
      "outputs": [
        {
          "output_type": "stream",
          "name": "stdout",
          "text": [
            "alma\n",
            "armud\n",
            "ərik\n"
          ]
        }
      ]
    },
    {
      "cell_type": "code",
      "source": [
        "# 5\n",
        "def toplam(*args):\n",
        "    return sum(args)\n",
        "\n",
        "print(toplam(1, 2, 3, 4))"
      ],
      "metadata": {
        "colab": {
          "base_uri": "https://localhost:8080/"
        },
        "id": "XIUZdcVglkTE",
        "outputId": "840ffb0e-e0b2-4d47-c30c-3bf25126bb49"
      },
      "execution_count": 17,
      "outputs": [
        {
          "output_type": "stream",
          "name": "stdout",
          "text": [
            "10\n"
          ]
        }
      ]
    },
    {
      "cell_type": "code",
      "source": [
        "# 6\n",
        "def ortalama(*args):\n",
        "    if len(args) == 0:\n",
        "        return \"Rəqəm yoxdur\"\n",
        "    else:\n",
        "        return sum(args) / len(args)\n",
        "\n",
        "print(ortalama(10, 20, 30))\n",
        "print(ortalama())"
      ],
      "metadata": {
        "colab": {
          "base_uri": "https://localhost:8080/"
        },
        "id": "KRtaPRzIllow",
        "outputId": "6f42135a-8b61-4aeb-f997-e7b116dea409"
      },
      "execution_count": 18,
      "outputs": [
        {
          "output_type": "stream",
          "name": "stdout",
          "text": [
            "20.0\n",
            "Rəqəm yoxdur\n"
          ]
        }
      ]
    },
    {
      "cell_type": "code",
      "source": [
        "# 7\n",
        "def adlar_rəqəmlər(**kwargs):\n",
        "    for ad, rəqəm in kwargs.items():\n",
        "        print(f\"ad: {ad}, rəqəm: {rəqəm}\")\n",
        "\n",
        "adlar_rəqəmlər(bir=1, iki=2, üç=3)"
      ],
      "metadata": {
        "colab": {
          "base_uri": "https://localhost:8080/"
        },
        "id": "PSnnuBTclnGO",
        "outputId": "2a8e4825-1f52-4b3c-9ed0-e6a5877540d6"
      },
      "execution_count": 20,
      "outputs": [
        {
          "output_type": "stream",
          "name": "stdout",
          "text": [
            "ad: bir, rəqəm: 1\n",
            "ad: iki, rəqəm: 2\n",
            "ad: üç, rəqəm: 3\n"
          ]
        }
      ]
    },
    {
      "cell_type": "code",
      "source": [
        "# 8\n",
        "def tip_yoxla(dəyər):\n",
        "    if isinstance(dəyər, str):\n",
        "        print(\"mətn\")\n",
        "    elif isinstance(dəyər, (int, float)):\n",
        "        print(\"rəqəm\")\n",
        "    else:\n",
        "        print(\"başqa\")\n",
        "\n",
        "tip_yoxla(5)\n",
        "tip_yoxla(\"salam\")\n",
        "tip_yoxla([1, 2, 3])"
      ],
      "metadata": {
        "colab": {
          "base_uri": "https://localhost:8080/"
        },
        "id": "K6oc-p6Vlr1l",
        "outputId": "4c54fd1e-c244-4bd8-f919-a3156fbfed39"
      },
      "execution_count": 19,
      "outputs": [
        {
          "output_type": "stream",
          "name": "stdout",
          "text": [
            "rəqəm\n",
            "mətn\n",
            "başqa\n"
          ]
        }
      ]
    },
    {
      "cell_type": "code",
      "source": [
        "# 9\n",
        "def yas_kateqoriya():\n",
        "    yas = int(input(\"Yaşınızı daxil edin: \"))\n",
        "    if yas < 18:\n",
        "        print(\"Gənc\")\n",
        "    else:\n",
        "        print(\"Yetkin\")"
      ],
      "metadata": {
        "id": "CxCt522tltWa"
      },
      "execution_count": 21,
      "outputs": []
    },
    {
      "cell_type": "code",
      "source": [
        "# 10\n",
        "def soz_uzunluq():\n",
        "    soz = input(\"Bir söz daxil edin: \")\n",
        "    print(\"Sözün uzunluğu:\", len(soz))"
      ],
      "metadata": {
        "id": "NzjfzVrSluq2"
      },
      "execution_count": 22,
      "outputs": []
    }
  ]
}