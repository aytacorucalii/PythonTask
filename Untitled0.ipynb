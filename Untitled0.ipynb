{
  "nbformat": 4,
  "nbformat_minor": 0,
  "metadata": {
    "colab": {
      "provenance": []
    },
    "kernelspec": {
      "name": "python3",
      "display_name": "Python 3"
    },
    "language_info": {
      "name": "python"
    }
  },
  "cells": [
    {
      "cell_type": "markdown",
      "source": [
        "Task 1  Sprint_1b"
      ],
      "metadata": {
        "id": "nKP75lQ4Xd6j"
      }
    },
    {
      "cell_type": "code",
      "source": [
        "# 1\n",
        "s = \"Programming\"\n",
        "print(len(s))\n",
        "print(s[0])"
      ],
      "metadata": {
        "colab": {
          "base_uri": "https://localhost:8080/"
        },
        "id": "oaD1W08pXxrt",
        "outputId": "e0d1f3ab-962d-4d69-f0ae-8b09ae4fe049"
      },
      "execution_count": 1,
      "outputs": [
        {
          "output_type": "stream",
          "name": "stdout",
          "text": [
            "11\n",
            "P\n"
          ]
        }
      ]
    },
    {
      "cell_type": "code",
      "source": [
        "# 2\n",
        "s1 = \"Hello\"\n",
        "s2 = \"World\"\n",
        "result = s1 + \" \" + s2\n",
        "print(result)"
      ],
      "metadata": {
        "colab": {
          "base_uri": "https://localhost:8080/"
        },
        "id": "oueKkgyyX6Ly",
        "outputId": "617a20a9-fbc8-4b96-8940-cd0fed8b5a1f"
      },
      "execution_count": 2,
      "outputs": [
        {
          "output_type": "stream",
          "name": "stdout",
          "text": [
            "Hello World\n"
          ]
        }
      ]
    },
    {
      "cell_type": "code",
      "source": [
        "# 3\n",
        "text = \"Python\"\n",
        "print(text[-1])"
      ],
      "metadata": {
        "colab": {
          "base_uri": "https://localhost:8080/"
        },
        "id": "4Mauzeb2X6Sw",
        "outputId": "9d5c67fa-1269-4ebd-dc35-bdd8a89ec3f9"
      },
      "execution_count": 3,
      "outputs": [
        {
          "output_type": "stream",
          "name": "stdout",
          "text": [
            "n\n"
          ]
        }
      ]
    },
    {
      "cell_type": "code",
      "source": [
        "# 4\n",
        "s = \"Artificial\"\n",
        "print(s[0:3])\n"
      ],
      "metadata": {
        "colab": {
          "base_uri": "https://localhost:8080/"
        },
        "id": "y-3IuW05X6aN",
        "outputId": "8dbc5228-6904-488d-f12b-ecc6997b826c"
      },
      "execution_count": 4,
      "outputs": [
        {
          "output_type": "stream",
          "name": "stdout",
          "text": [
            "Art\n"
          ]
        }
      ]
    },
    {
      "cell_type": "code",
      "source": [
        "# 5\n",
        "word = \"Code\"\n",
        "print(word[::-1])"
      ],
      "metadata": {
        "colab": {
          "base_uri": "https://localhost:8080/"
        },
        "id": "DnDQ-WfhX6fZ",
        "outputId": "68ada037-2b2f-49c2-e527-d92cf0985059"
      },
      "execution_count": 5,
      "outputs": [
        {
          "output_type": "stream",
          "name": "stdout",
          "text": [
            "edoC\n"
          ]
        }
      ]
    },
    {
      "cell_type": "code",
      "source": [
        "# 6\n",
        "s = \"abcdefgh\"\n",
        "print(s[::2])"
      ],
      "metadata": {
        "colab": {
          "base_uri": "https://localhost:8080/"
        },
        "id": "QtYb0nh7X6oA",
        "outputId": "d61be522-4b92-4421-a382-dcc97299de8e"
      },
      "execution_count": 6,
      "outputs": [
        {
          "output_type": "stream",
          "name": "stdout",
          "text": [
            "aceg\n"
          ]
        }
      ]
    },
    {
      "cell_type": "code",
      "source": [
        "# 7\n",
        "text = \"data\"\n",
        "print(text.upper())\n",
        "print(text.lower())"
      ],
      "metadata": {
        "id": "5cj0rsJ4X6vg"
      },
      "execution_count": null,
      "outputs": []
    },
    {
      "cell_type": "code",
      "source": [
        "# 8\n",
        "s = \"Python-R-Java\"\n",
        "print(s.split(\"-\"))"
      ],
      "metadata": {
        "colab": {
          "base_uri": "https://localhost:8080/"
        },
        "id": "BoIcEosVX62H",
        "outputId": "b15ce53b-8f80-4b7d-f36f-6eb163b4637e"
      },
      "execution_count": 7,
      "outputs": [
        {
          "output_type": "stream",
          "name": "stdout",
          "text": [
            "['Python', 'R', 'Java']\n"
          ]
        }
      ]
    },
    {
      "cell_type": "code",
      "source": [
        "# 9\n",
        "ad = \"Ayxan\"\n",
        "yas = 25\n",
        "print(f\"{ad} {yas} yaşındadır\")"
      ],
      "metadata": {
        "colab": {
          "base_uri": "https://localhost:8080/"
        },
        "id": "x7JWZgCBX67x",
        "outputId": "fa6f7167-39ac-4758-f801-6846f925cc29"
      },
      "execution_count": 8,
      "outputs": [
        {
          "output_type": "stream",
          "name": "stdout",
          "text": [
            "Ayxan 25 yaşındadır\n"
          ]
        }
      ]
    },
    {
      "cell_type": "code",
      "source": [
        "# 10\n",
        "s = \"salam-dunya\"\n",
        "print(s.replace(\"-\", \" \"))"
      ],
      "metadata": {
        "colab": {
          "base_uri": "https://localhost:8080/"
        },
        "id": "Zxd0WowMX7Ci",
        "outputId": "c91f3f73-c4c4-444b-c73e-54caa57bafb0"
      },
      "execution_count": 9,
      "outputs": [
        {
          "output_type": "stream",
          "name": "stdout",
          "text": [
            "salam dunya\n"
          ]
        }
      ]
    },
    {
      "cell_type": "markdown",
      "source": [
        "Task 2 Sprint_2b_task"
      ],
      "metadata": {
        "id": "3TPtKTkPYm-y"
      }
    },
    {
      "cell_type": "code",
      "source": [
        "import pandas as pd\n",
        "\n",
        "s1 = pd.Series([10, 20, 30, 40])\n",
        "s1.index = ['w', 'x', 'y', 'z']\n",
        "\n",
        "s2 = pd.Series({'p': 5, 'q': 10, 'r': 15})\n",
        "\n",
        "print(s2['q'])\n",
        "\n",
        "print(s1[s1 > 25])\n",
        "\n",
        "print(s1[s1 > 20] / 10)\n",
        "\n",
        "df1 = pd.DataFrame([(1, 2), (3, 4)])\n",
        "df1.index = ['r1', 'r2']\n",
        "df1.columns = ['c1', 'c2']\n",
        "\n",
        "df2 = pd.DataFrame({'A': [1, 2], 'B': [3, 4]})\n",
        "\n",
        "print(df2[df2['A'] > 1])\n"
      ],
      "metadata": {
        "colab": {
          "base_uri": "https://localhost:8080/"
        },
        "id": "sKWgEkRIX7HP",
        "outputId": "00ca717d-00bb-47ce-a4ab-64693a579fb3"
      },
      "execution_count": 10,
      "outputs": [
        {
          "output_type": "stream",
          "name": "stdout",
          "text": [
            "10\n",
            "y    30\n",
            "z    40\n",
            "dtype: int64\n",
            "y    3.0\n",
            "z    4.0\n",
            "dtype: float64\n",
            "   A  B\n",
            "1  2  4\n"
          ]
        }
      ]
    },
    {
      "cell_type": "markdown",
      "source": [
        "Task 3 Sprint_1a task"
      ],
      "metadata": {
        "id": "klP_vcKqZMmR"
      }
    },
    {
      "cell_type": "code",
      "source": [
        "a = str(123)\n",
        "print(type(a))\n",
        "\n",
        "b = int(19.99)\n",
        "print(b)\n",
        "\n",
        "c = int(\"500\")\n",
        "print(c / 2)\n",
        "\n",
        "a = 8\n",
        "b = 12\n",
        "print(a < b)\n",
        "print(a == b)\n",
        "\n",
        "\n"
      ],
      "metadata": {
        "colab": {
          "base_uri": "https://localhost:8080/"
        },
        "id": "LsKEKfpTZPkF",
        "outputId": "7a2e7390-e695-4642-d721-26cfd7cb9b57"
      },
      "execution_count": 12,
      "outputs": [
        {
          "output_type": "stream",
          "name": "stdout",
          "text": [
            "<class 'str'>\n",
            "19\n",
            "250.0\n",
            "True\n",
            "False\n"
          ]
        }
      ]
    },
    {
      "cell_type": "code",
      "source": [
        "x = 5\n",
        "y = 10\n",
        "z = 15\n",
        "print((x < y) and (y < z))\n",
        "\n",
        "print(25 // 4)\n",
        "print(25 % 4)\n",
        "print(25 / 4)\n",
        "\n",
        "print(3 ** 4)\n",
        "\n",
        "qiymet = 75.5\n",
        "qiymet = int(qiymet)\n",
        "print(type(qiymet))\n",
        "\n",
        "n = 20\n",
        "print((n > 10) or (n < 5))\n",
        "print((n > 15) and (n < 25))\n",
        "\n",
        "d = float(\"42.8\")\n",
        "print(type(d))\n",
        "e = int(d)\n",
        "print(type(e))"
      ],
      "metadata": {
        "colab": {
          "base_uri": "https://localhost:8080/"
        },
        "id": "nPTLpQcpZYY4",
        "outputId": "06dd6dc0-797b-4a1c-8560-345302aad256"
      },
      "execution_count": 13,
      "outputs": [
        {
          "output_type": "stream",
          "name": "stdout",
          "text": [
            "True\n",
            "6\n",
            "1\n",
            "6.25\n",
            "81\n",
            "<class 'int'>\n",
            "True\n",
            "True\n",
            "<class 'float'>\n",
            "<class 'int'>\n"
          ]
        }
      ]
    },
    {
      "cell_type": "code",
      "source": [],
      "metadata": {
        "id": "2IJiY8rKZg4V"
      },
      "execution_count": null,
      "outputs": []
    },
    {
      "cell_type": "markdown",
      "source": [
        "Task 4 Sprint_2a_task"
      ],
      "metadata": {
        "id": "5rjrpapVZkY9"
      }
    },
    {
      "cell_type": "code",
      "source": [
        "reqemler = [5, 10, 15, 20]\n",
        "\n",
        "print(len(reqemler))\n",
        "\n",
        "reqemler.append(25)\n",
        "\n",
        "reqemler.insert(2, 12)\n"
      ],
      "metadata": {
        "colab": {
          "base_uri": "https://localhost:8080/"
        },
        "id": "x7lyYugoZuaw",
        "outputId": "d2fc2970-ccf8-4342-d882-1451096a863c"
      },
      "execution_count": 14,
      "outputs": [
        {
          "output_type": "stream",
          "name": "stdout",
          "text": [
            "4\n"
          ]
        }
      ]
    },
    {
      "cell_type": "code",
      "source": [
        "a = [1, 2, 3]\n",
        "b = [4, 5, 6]\n",
        "birlesmis = a + b\n",
        "print(birlesmis)\n",
        "\n",
        "print(reqemler[2:4])\n",
        "\n",
        "reqemler[0] = 50\n",
        "\n",
        "print(19 in reqemler)\n"
      ],
      "metadata": {
        "colab": {
          "base_uri": "https://localhost:8080/"
        },
        "id": "vdNPiqIVZ5ms",
        "outputId": "1f7d48a0-e9b1-4f24-d21e-0a6c80e0a99f"
      },
      "execution_count": 15,
      "outputs": [
        {
          "output_type": "stream",
          "name": "stdout",
          "text": [
            "[1, 2, 3, 4, 5, 6]\n",
            "[12, 15]\n",
            "False\n"
          ]
        }
      ]
    },
    {
      "cell_type": "code",
      "source": [
        "herfler = [\"a\", \"b\", \"a\", \"c\"]\n",
        "print(herfler.count(\"a\"))\n",
        "\n",
        "herfler2 = [\"x\", \"y\", \"x\", \"z\"]\n",
        "while \"x\" in herfler2:\n",
        "    herfler2.remove(\"x\")\n",
        "print(herfler2)\n",
        "\n",
        "ededler = [7, 2, 9, 1]\n",
        "ededler.sort(reverse=True)\n",
        "print(ededler)\n",
        "\n",
        "boyuk10 = [x for x in reqemler if x > 10]\n",
        "print(boyuk10)\n"
      ],
      "metadata": {
        "colab": {
          "base_uri": "https://localhost:8080/"
        },
        "id": "0BrOhe8TZ9dr",
        "outputId": "d4c804a7-1631-44fa-c16f-63250bd41f85"
      },
      "execution_count": 16,
      "outputs": [
        {
          "output_type": "stream",
          "name": "stdout",
          "text": [
            "2\n",
            "['y', 'z']\n",
            "[9, 7, 2, 1]\n",
            "[50, 12, 15, 20, 25]\n"
          ]
        }
      ]
    },
    {
      "cell_type": "code",
      "source": [],
      "metadata": {
        "id": "gndHcbUdZ_-C"
      },
      "execution_count": null,
      "outputs": []
    }
  ]
}